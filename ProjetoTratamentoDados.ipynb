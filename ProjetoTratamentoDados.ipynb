{
  "nbformat": 4,
  "nbformat_minor": 0,
  "metadata": {
    "colab": {
      "name": "ProjetoTratamentoDados.ipynb",
      "provenance": [],
      "collapsed_sections": []
    },
    "kernelspec": {
      "name": "python3",
      "display_name": "Python 3"
    },
    "language_info": {
      "name": "python"
    }
  },
  "cells": [
    {
      "cell_type": "code",
      "execution_count": null,
      "metadata": {
        "id": "xbTuihMlZMnt",
        "colab": {
          "base_uri": "https://localhost:8080/"
        },
        "outputId": "26704ad5-c5e3-4d28-f231-d3c17f3f9bec"
      },
      "outputs": [
        {
          "output_type": "stream",
          "name": "stdout",
          "text": [
            "Collecting pyspark\n",
            "  Downloading pyspark-3.2.1.tar.gz (281.4 MB)\n",
            "\u001b[K     |████████████████████████████████| 281.4 MB 36 kB/s \n",
            "\u001b[?25hCollecting py4j==0.10.9.3\n",
            "  Downloading py4j-0.10.9.3-py2.py3-none-any.whl (198 kB)\n",
            "\u001b[K     |████████████████████████████████| 198 kB 54.4 MB/s \n",
            "\u001b[?25hBuilding wheels for collected packages: pyspark\n",
            "  Building wheel for pyspark (setup.py) ... \u001b[?25l\u001b[?25hdone\n",
            "  Created wheel for pyspark: filename=pyspark-3.2.1-py2.py3-none-any.whl size=281853642 sha256=c5cf650af9cd713f0aa87a129c851ab7fbb88a06a03c11075f0a88c244f3b57a\n",
            "  Stored in directory: /root/.cache/pip/wheels/9f/f5/07/7cd8017084dce4e93e84e92efd1e1d5334db05f2e83bcef74f\n",
            "Successfully built pyspark\n",
            "Installing collected packages: py4j, pyspark\n",
            "Successfully installed py4j-0.10.9.3 pyspark-3.2.1\n"
          ]
        }
      ],
      "source": [
        "# Criado por Alessadra Ulinick\n",
        "\n",
        "# instalar as dependências\n",
        "!apt-get install openjdk-8-jdk-headless -qq > /dev/null\n",
        "!wget -q https://archive.apache.org/dist/spark/spark-2.4.4/spark-2.4.4-bin-hadoop2.7.tgz\n",
        "!tar xf spark-2.4.4-bin-hadoop2.7.tgz\n",
        "!pip install -q findspark\n",
        "!pip install pyspark"
      ]
    },
    {
      "cell_type": "code",
      "source": [
        "# configurar as variáveis de ambiente\n",
        "import os\n",
        "os.environ[\"JAVA_HOME\"] = \"/usr/lib/jvm/java-8-openjdk-amd64\"\n",
        "os.environ[\"SPARK_HOME\"] = \"/content/spark-2.4.4-bin-hadoop2.7\"\n",
        "\n",
        "# tornar o pyspark \"importável\"\n",
        "import findspark\n",
        "findspark.init('spark-2.4.4-bin-hadoop2.7')\n",
        "\n",
        "# importar biblioteca pandas e numpy\n",
        "import pandas as pd\n",
        "import numpy as np\n",
        "from pyspark.sql.functions import concat, col, lit\n",
        "from pyspark.sql import functions as sf\n",
        "import time"
      ],
      "metadata": {
        "id": "tDjZVm92ZcH6"
      },
      "execution_count": null,
      "outputs": []
    },
    {
      "cell_type": "code",
      "source": [
        "# iniciar uma sessão local e importar dados do Airbnb\n",
        "from pyspark.sql import SparkSession\n",
        "sc = SparkSession.builder.master('local[*]').getOrCreate()"
      ],
      "metadata": {
        "id": "-hjpP4rsZesJ"
      },
      "execution_count": null,
      "outputs": []
    },
    {
      "cell_type": "code",
      "source": [
        "# 1 - Carregar DataFrame do PySpark\n",
        "data = sc.read.csv(\"mock_data_1.csv\", inferSchema=True, header=True, sep=',')\n",
        "\n",
        "# Mostrar o arquivo\n",
        "data"
      ],
      "metadata": {
        "id": "WIjt1imDZxcp",
        "colab": {
          "base_uri": "https://localhost:8080/"
        },
        "outputId": "063dc507-7b6e-4434-af11-af135043917a"
      },
      "execution_count": null,
      "outputs": [
        {
          "output_type": "execute_result",
          "data": {
            "text/plain": [
              "DataFrame[id: int, nome: string, sobrenome: string, email: string, salario: string, ultima_compra: timestamp]"
            ]
          },
          "metadata": {},
          "execution_count": 6
        }
      ]
    },
    {
      "cell_type": "code",
      "source": [
        "# Convertendo Spark para pandas\n",
        "dataframe = data.toPandas()"
      ],
      "metadata": {
        "id": "OwM9m6MMlXNT"
      },
      "execution_count": null,
      "outputs": []
    },
    {
      "cell_type": "code",
      "source": [
        "# 2 - unir \"nome\" e \"sobrenome\" em uma nova coluna chamada \"nome_completo\"\n",
        "dataframe = pd.DataFrame(dataframe,columns=[\"id\",\"nome\",\"sobrenome\", \"email\", \"salario\", \"ultima_compra\"]) \n",
        "dataframe[\"nome_completo\"] = dataframe[\"nome\"] + \" \" + dataframe[\"sobrenome\"]"
      ],
      "metadata": {
        "id": "__ElhZygd4nd"
      },
      "execution_count": null,
      "outputs": []
    },
    {
      "cell_type": "code",
      "source": [
        "# 3 - Remover lihas com valores nulos da coluna \"ultima_compra\"\n",
        "dataframe = dataframe.dropna(subset=[\"ultima_compra\"])\n",
        "\n",
        "# Saber quantos valores estão com NaN = 104 valores NaN antes de remove-los\n",
        "dataframe.isnull().sum()"
      ],
      "metadata": {
        "id": "pc4fi3JRreE3",
        "colab": {
          "base_uri": "https://localhost:8080/"
        },
        "outputId": "37c08e91-0b70-4fc4-f850-901cd197e898"
      },
      "execution_count": null,
      "outputs": [
        {
          "output_type": "execute_result",
          "data": {
            "text/plain": [
              "id               0\n",
              "nome             0\n",
              "sobrenome        0\n",
              "email            0\n",
              "salario          0\n",
              "ultima_compra    0\n",
              "nome_completo    0\n",
              "dtype: int64"
            ]
          },
          "metadata": {},
          "execution_count": 9
        }
      ]
    },
    {
      "cell_type": "code",
      "source": [
        "# 4 - Remover substring \"$\" da coluna \"salario\"\n",
        "dataframe[\"salario\"] = dataframe[\"salario\"].str.replace(\"$\", \"\")"
      ],
      "metadata": {
        "id": "mN-K39r9n-Lk",
        "colab": {
          "base_uri": "https://localhost:8080/"
        },
        "outputId": "53b7e866-e315-482b-e370-7ea222812ea9"
      },
      "execution_count": null,
      "outputs": [
        {
          "output_type": "stream",
          "name": "stderr",
          "text": [
            "/usr/local/lib/python3.7/dist-packages/ipykernel_launcher.py:2: FutureWarning: The default value of regex will change from True to False in a future version. In addition, single character regular expressions will *not* be treated as literal strings when regex=True.\n",
            "  \n"
          ]
        }
      ]
    },
    {
      "cell_type": "code",
      "source": [
        "# 5 - Alteração do tipo de dado\n",
        "dataframe[\"salario\"] = dataframe[\"salario\"].astype(float)"
      ],
      "metadata": {
        "id": "bGt71b3ZtS3R"
      },
      "execution_count": null,
      "outputs": []
    },
    {
      "cell_type": "code",
      "source": [
        "# 6 - Conversão para timestamp\n",
        "dataframe[\"ultima_compra\"] = pd.to_datetime(dataframe[\"ultima_compra\"],format= '%H:%M:%S' ).dt.time"
      ],
      "metadata": {
        "id": "_fXMgfsaDHwM"
      },
      "execution_count": null,
      "outputs": []
    },
    {
      "cell_type": "code",
      "source": [
        "# 7 - Salário médio dos clientes\n",
        "dataframe[\"salario\"].mean()"
      ],
      "metadata": {
        "id": "QhK8cLnNuXiK",
        "colab": {
          "base_uri": "https://localhost:8080/"
        },
        "outputId": "24fa768f-607e-4401-ac0f-7c308a1eebe8"
      },
      "execution_count": null,
      "outputs": [
        {
          "output_type": "execute_result",
          "data": {
            "text/plain": [
              "3043.2011718750023"
            ]
          },
          "metadata": {},
          "execution_count": 13
        }
      ]
    }
  ]
}