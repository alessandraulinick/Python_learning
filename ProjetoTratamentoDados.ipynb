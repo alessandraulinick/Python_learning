{
  "nbformat": 4,
  "nbformat_minor": 0,
  "metadata": {
    "colab": {
      "name": "ProjetoTratamentoDados.ipynb",
      "provenance": [],
      "collapsed_sections": []
    },
    "kernelspec": {
      "name": "python3",
      "display_name": "Python 3"
    },
    "language_info": {
      "name": "python"
    }
  },
  "cells": [
    {
      "cell_type": "code",
      "execution_count": null,
      "metadata": {
        "id": "xbTuihMlZMnt"
      },
      "outputs": [],
      "source": [
        "# Criado por Alessadra Ulinick\n",
        "\n",
        "# instalar as dependências\n",
        "!apt-get install openjdk-8-jdk-headless -qq > /dev/null\n",
        "!wget -q https://archive.apache.org/dist/spark/spark-2.4.4/spark-2.4.4-bin-hadoop2.7.tgz\n",
        "!tar xf spark-2.4.4-bin-hadoop2.7.tgz\n",
        "!pip install -q findspark\n",
        "!pip install pyspark"
      ]
    },
    {
      "cell_type": "code",
      "source": [
        "# configurar as variáveis de ambiente\n",
        "import os\n",
        "os.environ[\"JAVA_HOME\"] = \"/usr/lib/jvm/java-8-openjdk-amd64\"\n",
        "os.environ[\"SPARK_HOME\"] = \"/content/spark-2.4.4-bin-hadoop2.7\"\n",
        "\n",
        "# tornar o pyspark \"importável\"\n",
        "import findspark\n",
        "findspark.init('spark-2.4.4-bin-hadoop2.7')\n",
        "\n",
        "# importar biblioteca pandas e numpy\n",
        "import pandas as pd\n",
        "import numpy as np\n",
        "from pyspark.sql.functions import concat, col, lit\n",
        "from pyspark.sql import functions as sf\n",
        "import time"
      ],
      "metadata": {
        "id": "tDjZVm92ZcH6"
      },
      "execution_count": null,
      "outputs": []
    },
    {
      "cell_type": "code",
      "source": [
        "# iniciar uma sessão local e importar dados do Airbnb\n",
        "from pyspark.sql import SparkSession\n",
        "sc = SparkSession.builder.master('local[*]').getOrCreate()"
      ],
      "metadata": {
        "id": "-hjpP4rsZesJ"
      },
      "execution_count": null,
      "outputs": []
    },
    {
      "cell_type": "code",
      "source": [
        "# 1 - Carregar DataFrame do PySpark\n",
        "data = sc.read.csv(\"mock_data_1.csv\", inferSchema=True, header=True, sep=',')\n",
        "\n",
        "# Mostrar o arquivo\n",
        "data"
      ],
      "metadata": {
        "id": "WIjt1imDZxcp"
      },
      "execution_count": null,
      "outputs": []
    },
    {
      "cell_type": "code",
      "source": [
        "# Convertendo Spark para pandas\n",
        "dataframe = data.toPandas()"
      ],
      "metadata": {
        "id": "OwM9m6MMlXNT"
      },
      "execution_count": null,
      "outputs": []
    },
    {
      "cell_type": "code",
      "source": [
        "# 2 - unir \"nome\" e \"sobrenome\" em uma nova coluna chamada \"nome_completo\"\n",
        "dataframe = pd.DataFrame(dataframe,columns=[\"id\",\"nome\",\"sobrenome\", \"email\", \"salario\", \"ultima_compra\"]) \n",
        "dataframe[\"nome_completo\"] = dataframe[\"nome\"] + \" \" + dataframe[\"sobrenome\"]"
      ],
      "metadata": {
        "id": "__ElhZygd4nd"
      },
      "execution_count": null,
      "outputs": []
    },
    {
      "cell_type": "code",
      "source": [
        "# 3 - Remover lihas com valores nulos da coluna \"ultima_compra\"\n",
        "dataframe = dataframe.dropna(subset=[\"ultima_compra\"])\n",
        "\n",
        "# Saber quantos valores estão com NaN = 104 valores NaN antes de remove-los\n",
        "dataframe.isnull().sum()"
      ],
      "metadata": {
        "id": "pc4fi3JRreE3"
      },
      "execution_count": null,
      "outputs": []
    },
    {
      "cell_type": "code",
      "source": [
        "# 4 - Remover substring \"$\" da coluna \"salario\"\n",
        "dataframe[\"salario\"] = dataframe[\"salario\"].str.replace(\"$\", \"\")"
      ],
      "metadata": {
        "id": "mN-K39r9n-Lk"
      },
      "execution_count": null,
      "outputs": []
    },
    {
      "cell_type": "code",
      "source": [
        "# 5 - Alteração do tipo de dado\n",
        "dataframe[\"salario\"] = dataframe[\"salario\"].astype(float)"
      ],
      "metadata": {
        "id": "bGt71b3ZtS3R"
      },
      "execution_count": null,
      "outputs": []
    },
    {
      "cell_type": "code",
      "source": [
        "# 6 - Conversão para timestamp\n",
        "dataframe[\"ultima_compra\"] = pd.to_datetime(dataframe[\"ultima_compra\"],format= '%H:%M:%S' ).dt.time"
      ],
      "metadata": {
        "id": "_fXMgfsaDHwM"
      },
      "execution_count": null,
      "outputs": []
    },
    {
      "cell_type": "code",
      "source": [
        "# 7 - Salário médio dos clientes\n",
        "dataframe[\"salario\"].mean()"
      ],
      "metadata": {
        "id": "QhK8cLnNuXiK"
      },
      "execution_count": null,
      "outputs": []
    }
  ]
}